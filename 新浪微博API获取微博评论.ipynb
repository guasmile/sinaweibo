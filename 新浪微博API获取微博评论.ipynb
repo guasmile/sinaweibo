{
 "cells": [
  {
   "cell_type": "markdown",
   "metadata": {},
   "source": [
    "## 通过调用微博API的方法将微博评论写入数据库"
   ]
  },
  {
   "cell_type": "code",
   "execution_count": 1,
   "metadata": {},
   "outputs": [],
   "source": [
    "from weibo import APIClient \n",
    "import webbrowser\n",
    "import pymysql,re,time"
   ]
  },
  {
   "cell_type": "code",
   "execution_count": null,
   "metadata": {},
   "outputs": [],
   "source": [
    "# import importlib,sys\n",
    "# importlib.reload(sys)"
   ]
  },
  {
   "cell_type": "code",
   "execution_count": 2,
   "metadata": {},
   "outputs": [
    {
     "data": {
      "text/plain": [
       "'utf-8'"
      ]
     },
     "execution_count": 2,
     "metadata": {},
     "output_type": "execute_result"
    }
   ],
   "source": [
    "import sys\n",
    "sys.getfilesystemencoding()"
   ]
  },
  {
   "cell_type": "code",
   "execution_count": 3,
   "metadata": {},
   "outputs": [],
   "source": [
    "APP_KEY = '150779162' #获取的App Key \n",
    "APP_SECRET = 'f9e4856afaee46b34c6c23874372a3f7' #获取的AppSecret \n",
    "CALLBACK_URL = 'https://api.weibo.com/oauth2/default.html' #回调链接 "
   ]
  },
  {
   "cell_type": "code",
   "execution_count": null,
   "metadata": {},
   "outputs": [],
   "source": [
    "client = APIClient(app_key=APP_KEY, app_secret=APP_SECRET, redirect_uri=CALLBACK_URL) \n",
    "url = client.get_authorize_url() \n",
    "webbrowser.open_new(url) #打开默认浏览器获取code参数 "
   ]
  },
  {
   "cell_type": "code",
   "execution_count": 9,
   "metadata": {},
   "outputs": [
    {
     "name": "stdin",
     "output_type": "stream",
     "text": [
      "please input code :  810195e1f7ed19ecc9639977b4538ea7\n"
     ]
    },
    {
     "name": "stdout",
     "output_type": "stream",
     "text": [
      "{'access_token': '2.007Ni7YF0yXeMK98ee6af6e4TCDV6C', 'expires': 1784525473, 'expires_in': 1784525473, 'uid': '5089426080'}\n"
     ]
    }
   ],
   "source": [
    "code = input(\"please input code : \")\n",
    "result = client.request_access_token(code)\n",
    "print(result)\n",
    "access_token = result.access_token\n",
    "expires_in = result.expires_in\n",
    "client.set_access_token(access_token, expires_in)"
   ]
  },
  {
   "cell_type": "code",
   "execution_count": 44,
   "metadata": {},
   "outputs": [],
   "source": [
    "# r = client.comments.show.get(id = 4660583661568436, count = 200, page = 1)\n",
    "# obj = r.comments"
   ]
  },
  {
   "cell_type": "code",
   "execution_count": null,
   "metadata": {},
   "outputs": [],
   "source": [
    "# r.comments"
   ]
  },
  {
   "cell_type": "code",
   "execution_count": 45,
   "metadata": {},
   "outputs": [
    {
     "data": {
      "text/plain": [
       "list"
      ]
     },
     "execution_count": 45,
     "metadata": {},
     "output_type": "execute_result"
    }
   ],
   "source": [
    "# type(obj)"
   ]
  },
  {
   "cell_type": "code",
   "execution_count": null,
   "metadata": {},
   "outputs": [],
   "source": [
    "# for i in obj:\n",
    "#     print(i)  # 回复@你奈我何-Kris-:ex\n",
    "#     print(i.user.screen_name)"
   ]
  },
  {
   "cell_type": "code",
   "execution_count": null,
   "metadata": {},
   "outputs": [],
   "source": [
    "for i in range(1,10):\n",
    "    res = client.comments.show.get(id = 4660583661568436, count = 200, page = i)\n",
    "    if len(res.comments):\n",
    "        print('第 %s 页' % i)\n",
    "        \n",
    "# ---------获取评论内容-----------\n",
    "        for co in r.comments:\n",
    "            created_at = co.created_at  # 时间\n",
    "            comment_id = co.id   # 评论id\n",
    "            comment_obj = co.text  # 评论内容提取\n",
    "            text = re.sub('回复.*?:','',comment_obj) \n",
    "            user_name = co.user.screen_name\n",
    "            followers = co.user.followers_count\n",
    "            follow = co.user.friends_count\n",
    "            province = co.user.province\n",
    "            \n",
    "            print('评论者：%s,粉丝数：%s,关注数：%s,所在省份编号：%s' % (user_name,followers,follow,province))\n",
    "            print('\\n')\n",
    "                  \n",
    "# ----------连接数据库-----------\n",
    "            db =pymysql.connect(host='localhost',user='root',password='',database = 'pachong', charset=\"utf8\",use_unicode = False)\n",
    "            cur = db.cursor()\n",
    "            sql = \"INSERT INTO wuyifan(created_at, comment_id, text, user_name, followers, follow, province) values(%s,%s,%s,%s,%s,%s,%s)\"\n",
    "            columns = (created_at, comment_id, text, user_name, followers, follow, province)\n",
    "            try:\n",
    "                cur.execute(sql,columns)\n",
    "                db.commit()\n",
    "                cur.close()\n",
    "                db.close()\n",
    "            except Exception as e:\n",
    "                print(e)\n",
    "                db.rollback()\n",
    "                \n",
    "            comment_num += 1\n",
    "        time.sleep(4)\n",
    "    else:\n",
    "        break"
   ]
  },
  {
   "cell_type": "code",
   "execution_count": null,
   "metadata": {},
   "outputs": [],
   "source": []
  }
 ],
 "metadata": {
  "kernelspec": {
   "display_name": "Python 3",
   "language": "python",
   "name": "python3"
  },
  "language_info": {
   "codemirror_mode": {
    "name": "ipython",
    "version": 3
   },
   "file_extension": ".py",
   "mimetype": "text/x-python",
   "name": "python",
   "nbconvert_exporter": "python",
   "pygments_lexer": "ipython3",
   "version": "3.8.2"
  }
 },
 "nbformat": 4,
 "nbformat_minor": 4
}
